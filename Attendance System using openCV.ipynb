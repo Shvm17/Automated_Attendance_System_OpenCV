{
 "cells": [
  {
   "cell_type": "code",
   "execution_count": 1,
   "id": "0868c101",
   "metadata": {},
   "outputs": [],
   "source": [
    "import face_recognition #it is used as recognitizing face from the databse\n",
    "import cv2\n",
    "import numpy as np  #numpy is used as numpy array\n",
    "import csv  #it is used to interpret with csv file\n",
    "import os #to access file\n",
    "from datetime import datetime"
   ]
  },
  {
   "cell_type": "code",
   "execution_count": 3,
   "id": "2cc732c2",
   "metadata": {},
   "outputs": [
    {
     "ename": "FileNotFoundError",
     "evalue": "[Errno 2] No such file or directory: 'C:\\\\Users\\\\shivam sharma\\\\Desktop\\\\Photos Student for Attendance\\\\TC.jpg'",
     "output_type": "error",
     "traceback": [
      "\u001b[1;31m---------------------------------------------------------------------------\u001b[0m",
      "\u001b[1;31mFileNotFoundError\u001b[0m                         Traceback (most recent call last)",
      "Cell \u001b[1;32mIn[3], line 5\u001b[0m\n\u001b[0;32m      2\u001b[0m video_capture \u001b[38;5;241m=\u001b[39m cv2\u001b[38;5;241m.\u001b[39mVideoCapture(\u001b[38;5;241m0\u001b[39m)\n\u001b[0;32m      4\u001b[0m \u001b[38;5;66;03m#creating face encodings of the provided images\u001b[39;00m\n\u001b[1;32m----> 5\u001b[0m tom_image \u001b[38;5;241m=\u001b[39m \u001b[43mface_recognition\u001b[49m\u001b[38;5;241;43m.\u001b[39;49m\u001b[43mload_image_file\u001b[49m\u001b[43m(\u001b[49m\u001b[38;5;124;43m\"\u001b[39;49m\u001b[38;5;124;43mC:/Users/shivam sharma/Desktop/Photos Student for Attendance/TC.jpg\u001b[39;49m\u001b[38;5;124;43m\"\u001b[39;49m\u001b[43m)\u001b[49m\n\u001b[0;32m      6\u001b[0m tom_encoding \u001b[38;5;241m=\u001b[39m face_recognition\u001b[38;5;241m.\u001b[39mface_encodings(tom_image)[\u001b[38;5;241m0\u001b[39m]\n\u001b[0;32m      8\u001b[0m amit_image \u001b[38;5;241m=\u001b[39m face_recognition\u001b[38;5;241m.\u001b[39mload_image_file(\u001b[38;5;124m\"\u001b[39m\u001b[38;5;124mC:/Users/shivam sharma/Desktop/Photos Student for Attendance/AB.jpg\u001b[39m\u001b[38;5;124m\"\u001b[39m)\n",
      "File \u001b[1;32m~\\anaconda3\\lib\\site-packages\\face_recognition\\api.py:86\u001b[0m, in \u001b[0;36mload_image_file\u001b[1;34m(file, mode)\u001b[0m\n\u001b[0;32m     78\u001b[0m \u001b[38;5;28;01mdef\u001b[39;00m \u001b[38;5;21mload_image_file\u001b[39m(file, mode\u001b[38;5;241m=\u001b[39m\u001b[38;5;124m'\u001b[39m\u001b[38;5;124mRGB\u001b[39m\u001b[38;5;124m'\u001b[39m):\n\u001b[0;32m     79\u001b[0m \u001b[38;5;250m    \u001b[39m\u001b[38;5;124;03m\"\"\"\u001b[39;00m\n\u001b[0;32m     80\u001b[0m \u001b[38;5;124;03m    Loads an image file (.jpg, .png, etc) into a numpy array\u001b[39;00m\n\u001b[0;32m     81\u001b[0m \n\u001b[1;32m   (...)\u001b[0m\n\u001b[0;32m     84\u001b[0m \u001b[38;5;124;03m    :return: image contents as numpy array\u001b[39;00m\n\u001b[0;32m     85\u001b[0m \u001b[38;5;124;03m    \"\"\"\u001b[39;00m\n\u001b[1;32m---> 86\u001b[0m     im \u001b[38;5;241m=\u001b[39m \u001b[43mPIL\u001b[49m\u001b[38;5;241;43m.\u001b[39;49m\u001b[43mImage\u001b[49m\u001b[38;5;241;43m.\u001b[39;49m\u001b[43mopen\u001b[49m\u001b[43m(\u001b[49m\u001b[43mfile\u001b[49m\u001b[43m)\u001b[49m\n\u001b[0;32m     87\u001b[0m     \u001b[38;5;28;01mif\u001b[39;00m mode:\n\u001b[0;32m     88\u001b[0m         im \u001b[38;5;241m=\u001b[39m im\u001b[38;5;241m.\u001b[39mconvert(mode)\n",
      "File \u001b[1;32m~\\anaconda3\\lib\\site-packages\\PIL\\Image.py:3277\u001b[0m, in \u001b[0;36mopen\u001b[1;34m(fp, mode, formats)\u001b[0m\n\u001b[0;32m   3274\u001b[0m     filename \u001b[38;5;241m=\u001b[39m os\u001b[38;5;241m.\u001b[39mpath\u001b[38;5;241m.\u001b[39mrealpath(os\u001b[38;5;241m.\u001b[39mfspath(fp))\n\u001b[0;32m   3276\u001b[0m \u001b[38;5;28;01mif\u001b[39;00m filename:\n\u001b[1;32m-> 3277\u001b[0m     fp \u001b[38;5;241m=\u001b[39m \u001b[43mbuiltins\u001b[49m\u001b[38;5;241;43m.\u001b[39;49m\u001b[43mopen\u001b[49m\u001b[43m(\u001b[49m\u001b[43mfilename\u001b[49m\u001b[43m,\u001b[49m\u001b[43m \u001b[49m\u001b[38;5;124;43m\"\u001b[39;49m\u001b[38;5;124;43mrb\u001b[39;49m\u001b[38;5;124;43m\"\u001b[39;49m\u001b[43m)\u001b[49m\n\u001b[0;32m   3278\u001b[0m     exclusive_fp \u001b[38;5;241m=\u001b[39m \u001b[38;5;28;01mTrue\u001b[39;00m\n\u001b[0;32m   3280\u001b[0m \u001b[38;5;28;01mtry\u001b[39;00m:\n",
      "\u001b[1;31mFileNotFoundError\u001b[0m: [Errno 2] No such file or directory: 'C:\\\\Users\\\\shivam sharma\\\\Desktop\\\\Photos Student for Attendance\\\\TC.jpg'"
     ]
    }
   ],
   "source": [
    "#capturing real time video\n",
    "video_capture = cv2.VideoCapture(0)\n",
    "\n",
    "#creating face encodings of the provided images\n",
    "tom_image = face_recognition.load_image_file(\"C:/Users/shivam sharma/Desktop/Photos Student for Attendance/TC.jpg\")\n",
    "tom_encoding = face_recognition.face_encodings(tom_image)[0]\n",
    "\n",
    "amit_image = face_recognition.load_image_file(\"C:/Users/shivam sharma/Desktop/Photos Student for Attendance/AB.jpg\")\n",
    "amit_encoding = face_recognition.face_encodings(amit_image)[0]\n",
    "\n",
    "hritik_image = face_recognition.load_image_file(\"C:/Users/shivam sharma/Desktop/Photos Student for Attendance/HR.jpg\")\n",
    "hritik_encoding = face_recognition.face_encodings(hritik_image)[0]\n",
    "\n",
    "pooja_image = face_recognition.load_image_file(\"C:/Users/shivam sharma/Desktop/Photos Student for Attendance/PS.jpg\")\n",
    "pooja_encoding = face_recognition.face_encodings(pooja_image)[0]\n",
    "\n",
    "\n",
    "known_face_encodings = [tom_encoding, amit_encoding, hritik_encoding, pooja_encoding]\n",
    "\n",
    "known_face_names = [\"Tom Cruise\", \"Amitabh Bhachan\", \"Hritik Roshan\", \"Pooja Sharma\"]\n",
    "\n",
    "known_face_names_cp = known_face_names.copy()\n",
    "\n",
    "face_locations = []\n",
    "face_encodings = []\n",
    "face_names = []\n",
    "s = True\n",
    "\n",
    "current_date = datetime.now().strftime(\"%d-%m-%y\")\n",
    "\n",
    "not_known = 0\n",
    "\n",
    "f = open(current_date + '.csv','w+', newline =\"\")\n",
    "lnwriter = csv.writer(f)\n",
    "lnwriter.writerow([\"S.No\", \"Name\", \"Time of Arrival\", current_date])\n",
    "\n",
    "\n",
    "serial_number = 1\n",
    "marked = \"P\"\n",
    "while True:\n",
    "    \n",
    "    _,frame = video_capture.read()\n",
    "    small_frame = cv2.resize(frame,(0,0),fx = 0.25, fy = 0.25)\n",
    "    rgb_small_frame = small_frame[:,:,::-1]\n",
    "    \n",
    "    if s:\n",
    "        face_locations = face_recognition.face_locations(rgb_small_frame)\n",
    "        face_encodings = face_recognition.face_encodings(rgb_small_frame,face_locations)\n",
    "        face_names = []\n",
    "        for face_encoding in face_encodings:\n",
    "            matches = face_recognition.compare_faces(known_face_encodings,face_encoding)\n",
    "            name = ''\n",
    "            face_distance = face_recognition.face_distance(known_face_encodings,face_encoding)\n",
    "            best_match_index = np.argmin(face_distance)\n",
    "            if matches[best_match_index]:\n",
    "                name = known_face_names[best_match_index]\n",
    "                \n",
    "                \n",
    "            face_names.append(name)\n",
    "            \n",
    "            if name in known_face_names:\n",
    "                if name in known_face_names_cp:\n",
    "                    known_face_names_cp.remove(name)\n",
    "                    print(name)\n",
    "                    now = datetime.now()\n",
    "                    \n",
    "                    current_time = now.strftime(\"%I:%M %p\")\n",
    "                    print(current_time)\n",
    "                    if current_time >= \"9:00 AM\":\n",
    "                        marked = \"A\"\n",
    "                    lnwriter.writerow([serial_number,name,current_time,marked])\n",
    "                    serial_number+=1\n",
    "                    \n",
    "    cv2.imshow(\"Attendance System\",frame)\n",
    "    \n",
    "    if cv2.waitKey(1) & 0xFF == ord(\"q\"):\n",
    "        break\n",
    "\n",
    "video_capture.release()\n",
    "cv2.destroyAllWindows()\n",
    "f.close()\n"
   ]
  },
  {
   "cell_type": "code",
   "execution_count": null,
   "id": "39526249",
   "metadata": {},
   "outputs": [],
   "source": [
    "\n"
   ]
  },
  {
   "cell_type": "code",
   "execution_count": null,
   "id": "d1a467dc",
   "metadata": {},
   "outputs": [],
   "source": []
  },
  {
   "cell_type": "code",
   "execution_count": null,
   "id": "522e380e",
   "metadata": {},
   "outputs": [],
   "source": []
  },
  {
   "cell_type": "code",
   "execution_count": null,
   "id": "1154bab1",
   "metadata": {},
   "outputs": [],
   "source": []
  }
 ],
 "metadata": {
  "kernelspec": {
   "display_name": "Python 3 (ipykernel)",
   "language": "python",
   "name": "python3"
  },
  "language_info": {
   "codemirror_mode": {
    "name": "ipython",
    "version": 3
   },
   "file_extension": ".py",
   "mimetype": "text/x-python",
   "name": "python",
   "nbconvert_exporter": "python",
   "pygments_lexer": "ipython3",
   "version": "3.10.14"
  }
 },
 "nbformat": 4,
 "nbformat_minor": 5
}
